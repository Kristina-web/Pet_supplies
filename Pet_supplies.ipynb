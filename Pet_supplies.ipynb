{
 "cells": [
  {
   "cell_type": "code",
   "execution_count": 397,
   "id": "70c71643",
   "metadata": {},
   "outputs": [],
   "source": [
    "# import all packages and set plots to be embedded inline\n",
    "import numpy as np\n",
    "import pandas as pd\n",
    "import matplotlib.pyplot as plt\n",
    "import seaborn as sb\n",
    "\n",
    "\n",
    "%matplotlib inline\n",
    "pd.set_option('display.max_colwidth', None)"
   ]
  },
  {
   "cell_type": "markdown",
   "id": "2ef199bc",
   "metadata": {},
   "source": [
    "### 1. Gathering data"
   ]
  },
  {
   "cell_type": "code",
   "execution_count": 398,
   "id": "7454c4d0",
   "metadata": {},
   "outputs": [
    {
     "name": "stdout",
     "output_type": "stream",
     "text": [
      "<class 'pandas.core.frame.DataFrame'>\n",
      "RangeIndex: 1500 entries, 0 to 1499\n",
      "Data columns (total 8 columns):\n",
      " #   Column           Non-Null Count  Dtype  \n",
      "---  ------           --------------  -----  \n",
      " 0   product_id       1500 non-null   int64  \n",
      " 1   category         1500 non-null   object \n",
      " 2   animal           1500 non-null   object \n",
      " 3   size             1500 non-null   object \n",
      " 4   price            1500 non-null   object \n",
      " 5   sales            1500 non-null   float64\n",
      " 6   rating           1350 non-null   float64\n",
      " 7   repeat_purchase  1500 non-null   int64  \n",
      "dtypes: float64(2), int64(2), object(4)\n",
      "memory usage: 93.9+ KB\n"
     ]
    }
   ],
   "source": [
    "pet_supplies = pd.read_csv('pet_supplies_2212.csv')\n",
    "pet_supplies.info()"
   ]
  },
  {
   "cell_type": "code",
   "execution_count": 399,
   "id": "f4d3b168",
   "metadata": {},
   "outputs": [
    {
     "data": {
      "text/plain": [
       "product_id           0\n",
       "category             0\n",
       "animal               0\n",
       "size                 0\n",
       "price                0\n",
       "sales                0\n",
       "rating             150\n",
       "repeat_purchase      0\n",
       "dtype: int64"
      ]
     },
     "execution_count": 399,
     "metadata": {},
     "output_type": "execute_result"
    }
   ],
   "source": [
    "pet_supplies.isnull().sum()"
   ]
  },
  {
   "cell_type": "markdown",
   "id": "0d670c5f",
   "metadata": {},
   "source": [
    "> we have 150 null values for rating column"
   ]
  },
  {
   "cell_type": "code",
   "execution_count": 400,
   "id": "81446f23",
   "metadata": {},
   "outputs": [
    {
     "data": {
      "text/html": [
       "<div>\n",
       "<style scoped>\n",
       "    .dataframe tbody tr th:only-of-type {\n",
       "        vertical-align: middle;\n",
       "    }\n",
       "\n",
       "    .dataframe tbody tr th {\n",
       "        vertical-align: top;\n",
       "    }\n",
       "\n",
       "    .dataframe thead th {\n",
       "        text-align: right;\n",
       "    }\n",
       "</style>\n",
       "<table border=\"1\" class=\"dataframe\">\n",
       "  <thead>\n",
       "    <tr style=\"text-align: right;\">\n",
       "      <th></th>\n",
       "      <th>product_id</th>\n",
       "      <th>sales</th>\n",
       "      <th>rating</th>\n",
       "      <th>repeat_purchase</th>\n",
       "    </tr>\n",
       "  </thead>\n",
       "  <tbody>\n",
       "    <tr>\n",
       "      <th>count</th>\n",
       "      <td>1500.000000</td>\n",
       "      <td>1500.000000</td>\n",
       "      <td>1350.000000</td>\n",
       "      <td>1500.000000</td>\n",
       "    </tr>\n",
       "    <tr>\n",
       "      <th>mean</th>\n",
       "      <td>750.500000</td>\n",
       "      <td>996.597847</td>\n",
       "      <td>4.991111</td>\n",
       "      <td>0.604000</td>\n",
       "    </tr>\n",
       "    <tr>\n",
       "      <th>std</th>\n",
       "      <td>433.157015</td>\n",
       "      <td>323.952676</td>\n",
       "      <td>1.559755</td>\n",
       "      <td>0.489228</td>\n",
       "    </tr>\n",
       "    <tr>\n",
       "      <th>min</th>\n",
       "      <td>1.000000</td>\n",
       "      <td>286.940000</td>\n",
       "      <td>1.000000</td>\n",
       "      <td>0.000000</td>\n",
       "    </tr>\n",
       "    <tr>\n",
       "      <th>25%</th>\n",
       "      <td>375.750000</td>\n",
       "      <td>747.420000</td>\n",
       "      <td>4.000000</td>\n",
       "      <td>0.000000</td>\n",
       "    </tr>\n",
       "    <tr>\n",
       "      <th>50%</th>\n",
       "      <td>750.500000</td>\n",
       "      <td>1000.830000</td>\n",
       "      <td>5.000000</td>\n",
       "      <td>1.000000</td>\n",
       "    </tr>\n",
       "    <tr>\n",
       "      <th>75%</th>\n",
       "      <td>1125.250000</td>\n",
       "      <td>1158.157500</td>\n",
       "      <td>6.000000</td>\n",
       "      <td>1.000000</td>\n",
       "    </tr>\n",
       "    <tr>\n",
       "      <th>max</th>\n",
       "      <td>1500.000000</td>\n",
       "      <td>2255.960000</td>\n",
       "      <td>9.000000</td>\n",
       "      <td>1.000000</td>\n",
       "    </tr>\n",
       "  </tbody>\n",
       "</table>\n",
       "</div>"
      ],
      "text/plain": [
       "        product_id        sales       rating  repeat_purchase\n",
       "count  1500.000000  1500.000000  1350.000000      1500.000000\n",
       "mean    750.500000   996.597847     4.991111         0.604000\n",
       "std     433.157015   323.952676     1.559755         0.489228\n",
       "min       1.000000   286.940000     1.000000         0.000000\n",
       "25%     375.750000   747.420000     4.000000         0.000000\n",
       "50%     750.500000  1000.830000     5.000000         1.000000\n",
       "75%    1125.250000  1158.157500     6.000000         1.000000\n",
       "max    1500.000000  2255.960000     9.000000         1.000000"
      ]
     },
     "execution_count": 400,
     "metadata": {},
     "output_type": "execute_result"
    }
   ],
   "source": [
    "pet_supplies.describe()"
   ]
  },
  {
   "cell_type": "code",
   "execution_count": 401,
   "id": "a70ecfe6",
   "metadata": {},
   "outputs": [
    {
     "data": {
      "text/plain": [
       "0"
      ]
     },
     "execution_count": 401,
     "metadata": {},
     "output_type": "execute_result"
    }
   ],
   "source": [
    "pet_supplies.duplicated().sum()"
   ]
  },
  {
   "cell_type": "code",
   "execution_count": 402,
   "id": "df7f3178",
   "metadata": {},
   "outputs": [
    {
     "data": {
      "text/html": [
       "<div>\n",
       "<style scoped>\n",
       "    .dataframe tbody tr th:only-of-type {\n",
       "        vertical-align: middle;\n",
       "    }\n",
       "\n",
       "    .dataframe tbody tr th {\n",
       "        vertical-align: top;\n",
       "    }\n",
       "\n",
       "    .dataframe thead th {\n",
       "        text-align: right;\n",
       "    }\n",
       "</style>\n",
       "<table border=\"1\" class=\"dataframe\">\n",
       "  <thead>\n",
       "    <tr style=\"text-align: right;\">\n",
       "      <th></th>\n",
       "      <th>product_id</th>\n",
       "      <th>category</th>\n",
       "      <th>animal</th>\n",
       "      <th>size</th>\n",
       "      <th>price</th>\n",
       "      <th>sales</th>\n",
       "      <th>rating</th>\n",
       "      <th>repeat_purchase</th>\n",
       "    </tr>\n",
       "  </thead>\n",
       "  <tbody>\n",
       "    <tr>\n",
       "      <th>248</th>\n",
       "      <td>249</td>\n",
       "      <td>Accessory</td>\n",
       "      <td>Bird</td>\n",
       "      <td>LARGE</td>\n",
       "      <td>42.97</td>\n",
       "      <td>1420.58</td>\n",
       "      <td>6.0</td>\n",
       "      <td>1</td>\n",
       "    </tr>\n",
       "    <tr>\n",
       "      <th>900</th>\n",
       "      <td>901</td>\n",
       "      <td>Food</td>\n",
       "      <td>Fish</td>\n",
       "      <td>Small</td>\n",
       "      <td>25.78</td>\n",
       "      <td>722.29</td>\n",
       "      <td>4.0</td>\n",
       "      <td>0</td>\n",
       "    </tr>\n",
       "    <tr>\n",
       "      <th>225</th>\n",
       "      <td>226</td>\n",
       "      <td>Medicine</td>\n",
       "      <td>Cat</td>\n",
       "      <td>small</td>\n",
       "      <td>25.16</td>\n",
       "      <td>989.87</td>\n",
       "      <td>4.0</td>\n",
       "      <td>1</td>\n",
       "    </tr>\n",
       "    <tr>\n",
       "      <th>793</th>\n",
       "      <td>794</td>\n",
       "      <td>Equipment</td>\n",
       "      <td>Cat</td>\n",
       "      <td>Small</td>\n",
       "      <td>27.76</td>\n",
       "      <td>1020.30</td>\n",
       "      <td>6.0</td>\n",
       "      <td>1</td>\n",
       "    </tr>\n",
       "    <tr>\n",
       "      <th>691</th>\n",
       "      <td>692</td>\n",
       "      <td>Toys</td>\n",
       "      <td>Fish</td>\n",
       "      <td>Small</td>\n",
       "      <td>unlisted</td>\n",
       "      <td>974.33</td>\n",
       "      <td>NaN</td>\n",
       "      <td>1</td>\n",
       "    </tr>\n",
       "    <tr>\n",
       "      <th>376</th>\n",
       "      <td>377</td>\n",
       "      <td>Equipment</td>\n",
       "      <td>Cat</td>\n",
       "      <td>MEDIUM</td>\n",
       "      <td>22.88</td>\n",
       "      <td>789.06</td>\n",
       "      <td>4.0</td>\n",
       "      <td>1</td>\n",
       "    </tr>\n",
       "    <tr>\n",
       "      <th>1103</th>\n",
       "      <td>1104</td>\n",
       "      <td>Toys</td>\n",
       "      <td>Fish</td>\n",
       "      <td>small</td>\n",
       "      <td>28.74</td>\n",
       "      <td>956.72</td>\n",
       "      <td>6.0</td>\n",
       "      <td>1</td>\n",
       "    </tr>\n",
       "    <tr>\n",
       "      <th>744</th>\n",
       "      <td>745</td>\n",
       "      <td>Food</td>\n",
       "      <td>Fish</td>\n",
       "      <td>LARGE</td>\n",
       "      <td>31</td>\n",
       "      <td>1020.52</td>\n",
       "      <td>6.0</td>\n",
       "      <td>1</td>\n",
       "    </tr>\n",
       "    <tr>\n",
       "      <th>1260</th>\n",
       "      <td>1261</td>\n",
       "      <td>Housing</td>\n",
       "      <td>Cat</td>\n",
       "      <td>medium</td>\n",
       "      <td>21.23</td>\n",
       "      <td>621.24</td>\n",
       "      <td>4.0</td>\n",
       "      <td>1</td>\n",
       "    </tr>\n",
       "    <tr>\n",
       "      <th>1452</th>\n",
       "      <td>1453</td>\n",
       "      <td>Equipment</td>\n",
       "      <td>Cat</td>\n",
       "      <td>small</td>\n",
       "      <td>28.09</td>\n",
       "      <td>1032.96</td>\n",
       "      <td>8.0</td>\n",
       "      <td>1</td>\n",
       "    </tr>\n",
       "  </tbody>\n",
       "</table>\n",
       "</div>"
      ],
      "text/plain": [
       "      product_id   category animal    size     price    sales  rating  \\\n",
       "248          249  Accessory   Bird   LARGE     42.97  1420.58     6.0   \n",
       "900          901       Food   Fish   Small     25.78   722.29     4.0   \n",
       "225          226   Medicine    Cat   small     25.16   989.87     4.0   \n",
       "793          794  Equipment    Cat   Small     27.76  1020.30     6.0   \n",
       "691          692       Toys   Fish   Small  unlisted   974.33     NaN   \n",
       "376          377  Equipment    Cat  MEDIUM     22.88   789.06     4.0   \n",
       "1103        1104       Toys   Fish   small     28.74   956.72     6.0   \n",
       "744          745       Food   Fish   LARGE        31  1020.52     6.0   \n",
       "1260        1261    Housing    Cat  medium     21.23   621.24     4.0   \n",
       "1452        1453  Equipment    Cat   small     28.09  1032.96     8.0   \n",
       "\n",
       "      repeat_purchase  \n",
       "248                 1  \n",
       "900                 0  \n",
       "225                 1  \n",
       "793                 1  \n",
       "691                 1  \n",
       "376                 1  \n",
       "1103                1  \n",
       "744                 1  \n",
       "1260                1  \n",
       "1452                1  "
      ]
     },
     "execution_count": 402,
     "metadata": {},
     "output_type": "execute_result"
    }
   ],
   "source": [
    "pet_supplies.sample(10)"
   ]
  },
  {
   "cell_type": "markdown",
   "id": "74d96233",
   "metadata": {},
   "source": [
    "1. As general gathering of dataset we dint have duplication and missing values except of rating column\n",
    "2. Different font size in size column\n",
    "3. In the price column there float and int numbers and also the type of teh column is wrong (object)"
   ]
  },
  {
   "cell_type": "markdown",
   "id": "0a353a80",
   "metadata": {},
   "source": [
    "### 2. Assesing data and cleaning"
   ]
  },
  {
   "cell_type": "code",
   "execution_count": 403,
   "id": "0cfd2b95",
   "metadata": {},
   "outputs": [
    {
     "data": {
      "text/html": [
       "<div>\n",
       "<style scoped>\n",
       "    .dataframe tbody tr th:only-of-type {\n",
       "        vertical-align: middle;\n",
       "    }\n",
       "\n",
       "    .dataframe tbody tr th {\n",
       "        vertical-align: top;\n",
       "    }\n",
       "\n",
       "    .dataframe thead th {\n",
       "        text-align: right;\n",
       "    }\n",
       "</style>\n",
       "<table border=\"1\" class=\"dataframe\">\n",
       "  <thead>\n",
       "    <tr style=\"text-align: right;\">\n",
       "      <th></th>\n",
       "      <th>product_id</th>\n",
       "      <th>category</th>\n",
       "      <th>animal</th>\n",
       "      <th>size</th>\n",
       "      <th>price</th>\n",
       "      <th>sales</th>\n",
       "      <th>rating</th>\n",
       "      <th>repeat_purchase</th>\n",
       "    </tr>\n",
       "  </thead>\n",
       "  <tbody>\n",
       "    <tr>\n",
       "      <th>1089</th>\n",
       "      <td>1090</td>\n",
       "      <td>Equipment</td>\n",
       "      <td>Dog</td>\n",
       "      <td>small</td>\n",
       "      <td>32.84</td>\n",
       "      <td>1107.49</td>\n",
       "      <td>3.0</td>\n",
       "      <td>0</td>\n",
       "    </tr>\n",
       "    <tr>\n",
       "      <th>1376</th>\n",
       "      <td>1377</td>\n",
       "      <td>Equipment</td>\n",
       "      <td>Cat</td>\n",
       "      <td>medium</td>\n",
       "      <td>unlisted</td>\n",
       "      <td>795.74</td>\n",
       "      <td>NaN</td>\n",
       "      <td>0</td>\n",
       "    </tr>\n",
       "    <tr>\n",
       "      <th>296</th>\n",
       "      <td>297</td>\n",
       "      <td>Toys</td>\n",
       "      <td>Bird</td>\n",
       "      <td>Medium</td>\n",
       "      <td>43.92</td>\n",
       "      <td>1525.97</td>\n",
       "      <td>6.0</td>\n",
       "      <td>1</td>\n",
       "    </tr>\n",
       "    <tr>\n",
       "      <th>592</th>\n",
       "      <td>593</td>\n",
       "      <td>Equipment</td>\n",
       "      <td>Cat</td>\n",
       "      <td>SMALL</td>\n",
       "      <td>27.94</td>\n",
       "      <td>1030.82</td>\n",
       "      <td>4.0</td>\n",
       "      <td>1</td>\n",
       "    </tr>\n",
       "    <tr>\n",
       "      <th>454</th>\n",
       "      <td>455</td>\n",
       "      <td>Accessory</td>\n",
       "      <td>Cat</td>\n",
       "      <td>MEDIUM</td>\n",
       "      <td>17.95</td>\n",
       "      <td>512.36</td>\n",
       "      <td>3.0</td>\n",
       "      <td>0</td>\n",
       "    </tr>\n",
       "    <tr>\n",
       "      <th>463</th>\n",
       "      <td>464</td>\n",
       "      <td>Medicine</td>\n",
       "      <td>Fish</td>\n",
       "      <td>Small</td>\n",
       "      <td>19.98</td>\n",
       "      <td>662.74</td>\n",
       "      <td>3.0</td>\n",
       "      <td>1</td>\n",
       "    </tr>\n",
       "    <tr>\n",
       "      <th>978</th>\n",
       "      <td>979</td>\n",
       "      <td>Housing</td>\n",
       "      <td>Bird</td>\n",
       "      <td>MEDIUM</td>\n",
       "      <td>36.08</td>\n",
       "      <td>959.73</td>\n",
       "      <td>6.0</td>\n",
       "      <td>1</td>\n",
       "    </tr>\n",
       "    <tr>\n",
       "      <th>415</th>\n",
       "      <td>416</td>\n",
       "      <td>Equipment</td>\n",
       "      <td>Cat</td>\n",
       "      <td>small</td>\n",
       "      <td>27.94</td>\n",
       "      <td>1035.28</td>\n",
       "      <td>3.0</td>\n",
       "      <td>1</td>\n",
       "    </tr>\n",
       "    <tr>\n",
       "      <th>169</th>\n",
       "      <td>170</td>\n",
       "      <td>Equipment</td>\n",
       "      <td>Cat</td>\n",
       "      <td>SMALL</td>\n",
       "      <td>28.17</td>\n",
       "      <td>1041.59</td>\n",
       "      <td>3.0</td>\n",
       "      <td>0</td>\n",
       "    </tr>\n",
       "    <tr>\n",
       "      <th>1186</th>\n",
       "      <td>1187</td>\n",
       "      <td>Medicine</td>\n",
       "      <td>Cat</td>\n",
       "      <td>medium</td>\n",
       "      <td>19.98</td>\n",
       "      <td>739.23</td>\n",
       "      <td>8.0</td>\n",
       "      <td>1</td>\n",
       "    </tr>\n",
       "  </tbody>\n",
       "</table>\n",
       "</div>"
      ],
      "text/plain": [
       "      product_id   category animal    size     price    sales  rating  \\\n",
       "1089        1090  Equipment    Dog   small     32.84  1107.49     3.0   \n",
       "1376        1377  Equipment    Cat  medium  unlisted   795.74     NaN   \n",
       "296          297       Toys   Bird  Medium     43.92  1525.97     6.0   \n",
       "592          593  Equipment    Cat   SMALL     27.94  1030.82     4.0   \n",
       "454          455  Accessory    Cat  MEDIUM     17.95   512.36     3.0   \n",
       "463          464   Medicine   Fish   Small     19.98   662.74     3.0   \n",
       "978          979    Housing   Bird  MEDIUM     36.08   959.73     6.0   \n",
       "415          416  Equipment    Cat   small     27.94  1035.28     3.0   \n",
       "169          170  Equipment    Cat   SMALL     28.17  1041.59     3.0   \n",
       "1186        1187   Medicine    Cat  medium     19.98   739.23     8.0   \n",
       "\n",
       "      repeat_purchase  \n",
       "1089                0  \n",
       "1376                0  \n",
       "296                 1  \n",
       "592                 1  \n",
       "454                 0  \n",
       "463                 1  \n",
       "978                 1  \n",
       "415                 1  \n",
       "169                 0  \n",
       "1186                1  "
      ]
     },
     "execution_count": 403,
     "metadata": {},
     "output_type": "execute_result"
    }
   ],
   "source": [
    "pet_supplies_clean = pet_supplies.copy()\n",
    "#clean_loan.to_csv('clean_loan.csv', index=False)\n",
    "pet_supplies_clean.sample(10)"
   ]
  },
  {
   "cell_type": "code",
   "execution_count": 404,
   "id": "d40a33f7",
   "metadata": {},
   "outputs": [],
   "source": [
    "# drop duplicates in the dataset\n",
    "pet_supplies_clean = pet_supplies_clean.drop_duplicates()"
   ]
  },
  {
   "cell_type": "code",
   "execution_count": 405,
   "id": "f586ccaf",
   "metadata": {},
   "outputs": [
    {
     "name": "stdout",
     "output_type": "stream",
     "text": [
      "No duplicates found\n"
     ]
    }
   ],
   "source": [
    "#verifying for duplicates\n",
    "original_len= len(pet_supplies_clean)\n",
    "if len(pet_supplies_clean) == original_len:\n",
    "    print(\"No duplicates found\")\n",
    "else:\n",
    "    print(\"Duplicate rows dropped\")"
   ]
  },
  {
   "cell_type": "markdown",
   "id": "c19191ff",
   "metadata": {},
   "source": [
    "#### 1. check the wrong values for the 'category' column on the presence of non valuable meanings"
   ]
  },
  {
   "cell_type": "code",
   "execution_count": 406,
   "id": "3fab330f",
   "metadata": {},
   "outputs": [
    {
     "name": "stdout",
     "output_type": "stream",
     "text": [
      "Equipment    370\n",
      "Food         260\n",
      "Toys         255\n",
      "Medicine     237\n",
      "Housing      227\n",
      "Accessory    126\n",
      "-             25\n",
      "Name: category, dtype: int64 \n",
      "\n"
     ]
    }
   ],
   "source": [
    "print(pet_supplies_clean['category'].value_counts().sort_values(ascending=False), '\\n')"
   ]
  },
  {
   "cell_type": "markdown",
   "id": "b18cad03",
   "metadata": {},
   "source": [
    "* here we can see missing values in amount of 25. Replace them by 'Unknown'"
   ]
  },
  {
   "cell_type": "code",
   "execution_count": 407,
   "id": "60e2130a",
   "metadata": {},
   "outputs": [],
   "source": [
    "# fill the '-' values of category with “Unknown”\n",
    "pet_supplies_clean['category'] = pet_supplies_clean['category'].replace('-', 'Unknown')"
   ]
  },
  {
   "cell_type": "code",
   "execution_count": 408,
   "id": "f57115dd",
   "metadata": {},
   "outputs": [
    {
     "data": {
      "text/plain": [
       "category\n",
       "Unknown     25\n",
       "dtype: int64"
      ]
     },
     "execution_count": 408,
     "metadata": {},
     "output_type": "execute_result"
    }
   ],
   "source": [
    "#verifying for changed occupation\n",
    "pet_supplies_clean.loc[pet_supplies_clean['category'].str.contains('Unknown'), ['category']].value_counts()"
   ]
  },
  {
   "cell_type": "markdown",
   "id": "e5499f49",
   "metadata": {},
   "source": [
    "#### 2. Replace missing values with “Unknown” i the animal column"
   ]
  },
  {
   "cell_type": "code",
   "execution_count": 409,
   "id": "7369bc37",
   "metadata": {},
   "outputs": [
    {
     "name": "stdout",
     "output_type": "stream",
     "text": [
      "There are no missing values in the 'animal' column.\n"
     ]
    }
   ],
   "source": [
    "# check for missing values\n",
    "if pet_supplies_clean['animal'].isnull().values.any():\n",
    "    print(\"There are missing values in the 'animal' column.\")\n",
    "else:\n",
    "    print(\"There are no missing values in the 'animal' column.\")"
   ]
  },
  {
   "cell_type": "code",
   "execution_count": 410,
   "id": "f8f6561d",
   "metadata": {},
   "outputs": [
    {
     "name": "stdout",
     "output_type": "stream",
     "text": [
      "Cat     567\n",
      "Fish    369\n",
      "Dog     367\n",
      "Bird    197\n",
      "Name: animal, dtype: int64 \n",
      "\n"
     ]
    }
   ],
   "source": [
    "print(pet_supplies_clean['animal'].value_counts().sort_values(ascending=False), '\\n')"
   ]
  },
  {
   "cell_type": "markdown",
   "id": "414dae5f",
   "metadata": {},
   "source": [
    "#### 3. Replace missing values with “Unknown” i the size column and make the same font size"
   ]
  },
  {
   "cell_type": "code",
   "execution_count": 411,
   "id": "acabe58f",
   "metadata": {},
   "outputs": [
    {
     "name": "stdout",
     "output_type": "stream",
     "text": [
      "small     372\n",
      "medium    233\n",
      "Small     225\n",
      "SMALL     157\n",
      "Medium    150\n",
      "large     122\n",
      "MEDIUM    109\n",
      "Large      75\n",
      "LARGE      57\n",
      "Name: size, dtype: int64 \n",
      "\n"
     ]
    }
   ],
   "source": [
    "print(pet_supplies_clean['size'].value_counts().sort_values(ascending=False), '\\n')"
   ]
  },
  {
   "cell_type": "code",
   "execution_count": 412,
   "id": "908bf85e",
   "metadata": {},
   "outputs": [],
   "source": [
    "# assuming pet_supplies_clean is the DataFrame and 'size' is the column to format\n",
    "pet_supplies_clean['size'] = pet_supplies_clean['size'].str.capitalize()                                      "
   ]
  },
  {
   "cell_type": "code",
   "execution_count": 413,
   "id": "b7fb36a3",
   "metadata": {},
   "outputs": [
    {
     "data": {
      "text/html": [
       "<div>\n",
       "<style scoped>\n",
       "    .dataframe tbody tr th:only-of-type {\n",
       "        vertical-align: middle;\n",
       "    }\n",
       "\n",
       "    .dataframe tbody tr th {\n",
       "        vertical-align: top;\n",
       "    }\n",
       "\n",
       "    .dataframe thead th {\n",
       "        text-align: right;\n",
       "    }\n",
       "</style>\n",
       "<table border=\"1\" class=\"dataframe\">\n",
       "  <thead>\n",
       "    <tr style=\"text-align: right;\">\n",
       "      <th></th>\n",
       "      <th>product_id</th>\n",
       "      <th>category</th>\n",
       "      <th>animal</th>\n",
       "      <th>size</th>\n",
       "      <th>price</th>\n",
       "      <th>sales</th>\n",
       "      <th>rating</th>\n",
       "      <th>repeat_purchase</th>\n",
       "    </tr>\n",
       "  </thead>\n",
       "  <tbody>\n",
       "    <tr>\n",
       "      <th>589</th>\n",
       "      <td>590</td>\n",
       "      <td>Equipment</td>\n",
       "      <td>Fish</td>\n",
       "      <td>Small</td>\n",
       "      <td>23</td>\n",
       "      <td>704.78</td>\n",
       "      <td>4.0</td>\n",
       "      <td>1</td>\n",
       "    </tr>\n",
       "    <tr>\n",
       "      <th>1449</th>\n",
       "      <td>1450</td>\n",
       "      <td>Accessory</td>\n",
       "      <td>Fish</td>\n",
       "      <td>Small</td>\n",
       "      <td>17.94</td>\n",
       "      <td>443.36</td>\n",
       "      <td>5.0</td>\n",
       "      <td>0</td>\n",
       "    </tr>\n",
       "    <tr>\n",
       "      <th>1267</th>\n",
       "      <td>1268</td>\n",
       "      <td>Accessory</td>\n",
       "      <td>Bird</td>\n",
       "      <td>Large</td>\n",
       "      <td>43.06</td>\n",
       "      <td>1420.06</td>\n",
       "      <td>5.0</td>\n",
       "      <td>0</td>\n",
       "    </tr>\n",
       "  </tbody>\n",
       "</table>\n",
       "</div>"
      ],
      "text/plain": [
       "      product_id   category animal   size  price    sales  rating  \\\n",
       "589          590  Equipment   Fish  Small     23   704.78     4.0   \n",
       "1449        1450  Accessory   Fish  Small  17.94   443.36     5.0   \n",
       "1267        1268  Accessory   Bird  Large  43.06  1420.06     5.0   \n",
       "\n",
       "      repeat_purchase  \n",
       "589                 1  \n",
       "1449                0  \n",
       "1267                0  "
      ]
     },
     "execution_count": 413,
     "metadata": {},
     "output_type": "execute_result"
    }
   ],
   "source": [
    "pet_supplies_clean.sample(3)"
   ]
  },
  {
   "cell_type": "code",
   "execution_count": 414,
   "id": "5216b518",
   "metadata": {},
   "outputs": [
    {
     "name": "stdout",
     "output_type": "stream",
     "text": [
      "Small     754\n",
      "Medium    492\n",
      "Large     254\n",
      "Name: size, dtype: int64 \n",
      "\n"
     ]
    }
   ],
   "source": [
    "print(pet_supplies_clean['size'].value_counts().sort_values(ascending=False), '\\n')"
   ]
  },
  {
   "cell_type": "markdown",
   "id": "9b3d5ff2",
   "metadata": {},
   "source": [
    "#### 4. Replace missing values with the overall median price and make them all continuos (2 decimals)"
   ]
  },
  {
   "cell_type": "code",
   "execution_count": 415,
   "id": "190686f9",
   "metadata": {},
   "outputs": [
    {
     "name": "stdout",
     "output_type": "stream",
     "text": [
      "28.064999999999998\n"
     ]
    }
   ],
   "source": [
    "# replace 'unlisted' with null and 0 with NaN\n",
    "pet_supplies_clean['price'] = pet_supplies_clean['price'].replace(['unlisted', 0], [np.nan, np.nan])\n",
    "pet_supplies_clean['price'] = pet_supplies_clean['price'].astype(float)\n",
    "\n",
    "# calculate the median value of the 'price' column\n",
    "median_price = pet_supplies_clean['price'].median()\n",
    "print(median_price)\n",
    "\n",
    "# replace NaN with the median value\n",
    "pet_supplies_clean['price'].fillna(median_price, inplace=True)"
   ]
  },
  {
   "cell_type": "code",
   "execution_count": 416,
   "id": "397f8997",
   "metadata": {},
   "outputs": [],
   "source": [
    "# round the 'price' column to 2 decimals\n",
    "pet_supplies_clean['price'] = pet_supplies_clean['price'].round(2)"
   ]
  },
  {
   "cell_type": "code",
   "execution_count": 417,
   "id": "e14cd076",
   "metadata": {},
   "outputs": [
    {
     "data": {
      "text/plain": [
       "28.06    156\n",
       "22.98     13\n",
       "28.00     10\n",
       "27.99      8\n",
       "28.03      8\n",
       "        ... \n",
       "20.79      1\n",
       "54.02      1\n",
       "31.27      1\n",
       "34.11      1\n",
       "25.79      1\n",
       "Name: price, Length: 706, dtype: int64"
      ]
     },
     "execution_count": 417,
     "metadata": {},
     "output_type": "execute_result"
    }
   ],
   "source": [
    "pet_supplies_clean.price.value_counts()"
   ]
  },
  {
   "cell_type": "markdown",
   "id": "908485fa",
   "metadata": {},
   "source": [
    "#### 5. Replace missing values with the overall median price and make them all continuos (2 decimals) i the sale column"
   ]
  },
  {
   "cell_type": "code",
   "execution_count": 419,
   "id": "98e4102c",
   "metadata": {},
   "outputs": [
    {
     "name": "stdout",
     "output_type": "stream",
     "text": [
      "1000.8299999999999\n"
     ]
    }
   ],
   "source": [
    "# calculate the median value of the 'price' column\n",
    "median_sales = pet_supplies_clean['sales'].median()\n",
    "print(median_sales)\n",
    "\n",
    "# replace NaN with the median value\n",
    "pet_supplies_clean['sales'].fillna(median_sales, inplace=True)"
   ]
  },
  {
   "cell_type": "code",
   "execution_count": 420,
   "id": "71c3235e",
   "metadata": {},
   "outputs": [],
   "source": [
    "# round the 'price' column to 2 decimals\n",
    "pet_supplies_clean['sales'] = pet_supplies_clean['sales'].round(2)"
   ]
  },
  {
   "cell_type": "markdown",
   "id": "e8a250de",
   "metadata": {},
   "source": [
    "#### 6. Replace missing values with '0' in rating column"
   ]
  },
  {
   "cell_type": "code",
   "execution_count": 421,
   "id": "b9586d3d",
   "metadata": {},
   "outputs": [],
   "source": [
    "# replace NaN with the median value\n",
    "pet_supplies_clean['rating'].fillna(0, inplace=True)"
   ]
  },
  {
   "cell_type": "code",
   "execution_count": 422,
   "id": "8e0fecc4",
   "metadata": {},
   "outputs": [
    {
     "data": {
      "text/plain": [
       "150"
      ]
     },
     "execution_count": 422,
     "metadata": {},
     "output_type": "execute_result"
    }
   ],
   "source": [
    "pet_supplies_clean.rating.value_counts()[0]"
   ]
  },
  {
   "cell_type": "markdown",
   "id": "6d6d9a34",
   "metadata": {},
   "source": [
    "#### 7. Remove missing values in purchase column"
   ]
  },
  {
   "cell_type": "code",
   "execution_count": 423,
   "id": "2fe2453c",
   "metadata": {},
   "outputs": [
    {
     "data": {
      "text/plain": [
       "1    906\n",
       "0    594\n",
       "Name: repeat_purchase, dtype: int64"
      ]
     },
     "execution_count": 423,
     "metadata": {},
     "output_type": "execute_result"
    }
   ],
   "source": [
    "pet_supplies_clean.repeat_purchase.value_counts()"
   ]
  },
  {
   "cell_type": "markdown",
   "id": "58e29d56",
   "metadata": {},
   "source": [
    "* there is no missing values"
   ]
  },
  {
   "cell_type": "markdown",
   "id": "93be9234",
   "metadata": {},
   "source": [
    "# Visualization of data"
   ]
  },
  {
   "cell_type": "code",
   "execution_count": 430,
   "id": "fd451d75",
   "metadata": {},
   "outputs": [],
   "source": [
    "import pandas as pd\n",
    "import seaborn as sns\n",
    "import matplotlib.pyplot as plt"
   ]
  },
  {
   "cell_type": "markdown",
   "id": "9665e012",
   "metadata": {},
   "source": [
    "#### 1. State which category of the variable repeat purchases has the most observations"
   ]
  },
  {
   "cell_type": "code",
   "execution_count": 434,
   "id": "34cf2161",
   "metadata": {},
   "outputs": [
    {
     "data": {
      "text/plain": [
       "<matplotlib.legend.Legend at 0x2244c428460>"
      ]
     },
     "execution_count": 434,
     "metadata": {},
     "output_type": "execute_result"
    },
    {
     "data": {
      "image/png": "[encoded data removed]",
      "text/plain": [
       "<Figure size 1008x576 with 1 Axes>"
      ]
     },
     "metadata": {
      "needs_background": "light"
     },
     "output_type": "display_data"
    }
   ],
   "source": [
    "plt.figure(figsize=[14, 8])\n",
    "# create a barplot that shows the number of repeat and non-repeat purchases for each category\n",
    "sns.countplot(x='category', hue='repeat_purchase', data=pet_supplies_clean)\n",
    "\n",
    "# add axis labels and a title\n",
    "plt.xlabel('Category')\n",
    "plt.ylabel('Count')\n",
    "plt.title('Repeat vs Non-Repeat Purchases by Category')\n",
    "plt.legend(title='Is Repeat Purchase?', loc='upper right')"
   ]
  },
  {
   "cell_type": "code",
   "execution_count": 435,
   "id": "82ba1710",
   "metadata": {},
   "outputs": [
    {
     "data": {
      "image/png": "[encoded data removed]",
      "text/plain": [
       "<Figure size 432x288 with 1 Axes>"
      ]
     },
     "metadata": {
      "needs_background": "light"
     },
     "output_type": "display_data"
    }
   ],
   "source": [
    "# Group the data by repeat_purchase and count the number of products\n",
    "repeat_purchases = pet_supplies_clean.groupby('repeat_purchase')['product_id'].count()\n",
    "\n",
    "# Create a bar chart to visualize the results\n",
    "fig, ax = plt.subplots()\n",
    "ax.bar(repeat_purchases.index, repeat_purchases.values)\n",
    "\n",
    "# Add chart labels and title\n",
    "ax.set_xlabel('Repeat Purchase')\n",
    "ax.set_ylabel('Number of Products')\n",
    "ax.set_title('Number of Repeat Purchases among all Products')\n",
    "\n",
    "plt.show()\n"
   ]
  },
  {
   "cell_type": "code",
   "execution_count": 441,
   "id": "5b51c026",
   "metadata": {},
   "outputs": [
    {
     "name": "stdout",
     "output_type": "stream",
     "text": [
      "The category Accessory was repurchased 70 times.\n"
     ]
    }
   ],
   "source": [
    "\n",
    "# Filter for purchases where the specific category was bought\n",
    "category_purchases = pet_supplies_clean[pet_supplies_clean['category'] == 'Accessory']\n",
    "\n",
    "# Filter for purchases where the same product was bought again (has a value of 1)\n",
    "repurchased = category_purchases[category_purchases['repeat_purchase'] == 1]\n",
    "\n",
    "# Count the number of times the category was purchased and subsequently repurchased\n",
    "count = len(repurchased)\n",
    "\n",
    "print(f\"The category Accessory was repurchased {count} times.\")\n"
   ]
  },
  {
   "cell_type": "markdown",
   "id": "811e068c",
   "metadata": {},
   "source": [
    "a. The 'equipment' category of the variable repeat purchases has the most observations with 221 repeat purchases.\n",
    "\n",
    "b. From looking at the data, it's clear that the observations are not evenly distributed across the categories of the variable repeat purchases. Some categories have a relatively balanced distribution of repeat purchases, while others have much lower counts. For instance, the 'accessory' category has only 70 repeat purchases, which is a lot lower than other categories. But 4 categories has almost similar range of repeated purchases among each other in the range 145-153. It shows that customers' repeat purchase behavior varies across categories and is not evenly distributed."
   ]
  },
  {
   "cell_type": "markdown",
   "id": "f934bce5",
   "metadata": {},
   "source": [
    "#### 2. Describtion the distribution of all of the sales"
   ]
  },
  {
   "cell_type": "code",
   "execution_count": 451,
   "id": "f1f4c33a",
   "metadata": {},
   "outputs": [
    {
     "data": {
      "image/png": "[encoded data removed]",
      "text/plain": [
       "<Figure size 1008x576 with 1 Axes>"
      ]
     },
     "metadata": {
      "needs_background": "light"
     },
     "output_type": "display_data"
    }
   ],
   "source": [
    "plt.figure(figsize=[14, 8])\n",
    "# create a combined histogram and KDE plot\n",
    "sns.histplot(data=pet_supplies_clean, x='sales', kde=True, bins=40)\n",
    "\n",
    "# add labels and title\n",
    "plt.xlabel('Sales')\n",
    "plt.ylabel('Count')\n",
    "plt.title('Distribution of Sales')\n",
    "\n",
    "# display the plot\n",
    "plt.show()\n"
   ]
  },
  {
   "cell_type": "markdown",
   "id": "e79c33f0",
   "metadata": {},
   "source": [
    "* The majority of sales in the dataset are concentrated between 1000 and 1100. This suggests that most products in the pet supplies category are priced around this range, and that customers are more likely to purchase products that fall within this price range.\n",
    "* There is one product with a very high sales value of 2250, which is an outlier compared to the rest of the products in the dataset. This suggests that there is one product in the pet supplies category that is particularly popular among customers and generates a very high amount of revenue for the business.\n",
    "* The right-skewed nature of the distribution indicates that there are more products with lower sales values than there are with higher sales values. This suggests that while there are some products that generate a lot of revenue, the majority of products in the pet supplies category have lower sales values."
   ]
  },
  {
   "cell_type": "code",
   "execution_count": 455,
   "id": "3d9c1e86",
   "metadata": {},
   "outputs": [
    {
     "data": {
      "image/png": "[encoded data removed]",
      "text/plain": [
       "<Figure size 1008x576 with 1 Axes>"
      ]
     },
     "metadata": {
      "needs_background": "light"
     },
     "output_type": "display_data"
    }
   ],
   "source": [
    "plt.figure(figsize=[14, 8])\n",
    "\n",
    "sns.scatterplot(x=\"price\", y=\"sales\", data=pet_supplies_clean)\n",
    "plt.title(\"Relationship between Price and Sales\")\n",
    "plt.xlabel(\"Price\")\n",
    "plt.ylabel(\"Sales\")\n",
    "plt.show()\n"
   ]
  },
  {
   "cell_type": "markdown",
   "id": "2dd7bab0",
   "metadata": {},
   "source": [
    "* The scatter plot shows a positive correlation between price and sales, it suggests that as the price of a product increases, the sales of that product also tend to increase. This could be interpreted as customers being willing to pay more for higher quality or more desirable products, or that the price of a product can influence customer perception of its value. \n"
   ]
  },
  {
   "cell_type": "markdown",
   "id": "3c360298",
   "metadata": {},
   "source": [
    "#### 4. the relationship between repeat purchases and sales"
   ]
  },
  {
   "cell_type": "code",
   "execution_count": 476,
   "id": "fa3dccdb",
   "metadata": {},
   "outputs": [
    {
     "name": "stdout",
     "output_type": "stream",
     "text": [
      "Correlation between Repeat Purchases and Sales: -0.079\n"
     ]
    },
    {
     "data": {
      "image/png": "[encoded data removed]",
      "text/plain": [
       "<Figure size 1152x576 with 2 Axes>"
      ]
     },
     "metadata": {
      "needs_background": "light"
     },
     "output_type": "display_data"
    }
   ],
   "source": [
    "from scipy.stats import pearsonr\n",
    "import matplotlib.pyplot as plt\n",
    "import seaborn as sns\n",
    "\n",
    "# Calculate the correlation coefficient between repeat purchases and sales\n",
    "corr, _ = pearsonr(pet_supplies_clean['sales'], pet_supplies_clean['repeat_purchase'])\n",
    "print('Correlation between Repeat Purchases and Sales: %.3f' % corr)\n",
    "\n",
    "# Create the scatter plot with a regression line\n",
    "fig, axs = plt.subplots(ncols=2, figsize=(16, 8))\n",
    "sns.regplot(x='sales', y='repeat_purchase', data=pet_supplies_clean, ax=axs[0])\n",
    "axs[0].set_xlabel('Sales')\n",
    "axs[0].set_ylabel('Repeat Purchase Rate')\n",
    "axs[0].set_title('Relationship Between Repeat Purchases and Sales (Correlation: %.3f)' % corr)\n",
    "\n",
    "# Create the bar plot of total sales by category\n",
    "sns.barplot(x=\"category\", y=\"sales\", data=pet_supplies_clean, estimator=sum, ax=axs[1])\n",
    "axs[1].set_title(\"Total Sales by Category\")\n",
    "axs[1].set_xlabel(\"Category\")\n",
    "axs[1].set_ylabel(\"Sales\")\n",
    "\n",
    "plt.show()\n"
   ]
  },
  {
   "cell_type": "markdown",
   "id": "b840be98",
   "metadata": {},
   "source": [
    "* In conclusion, a negative correlation between sales and repeat purchases may be explained by the fact that customers who make larger initial purchases may not need to buy more pet supplies for some time, and therefore may not be as likely to make repeat purchases. On the other hand, customers who make smaller initial purchases may need to replenish their pet supplies more frequently, leading to more repeat purchases over time.\n",
    "* It seems that customers are more interested in buying equipment and toys compared to accessories and items in the unknown category. One possible conclusion that can be made is that the equipment and toys category is more popular and profitable than the accessory and unknown categories. Furthermore, including fact that customers tend to buy repeatedly in the equipment and toys category suggests that these items may have a higher level of customer satisfaction and loyalty. The business may want to prioritize maintaining the quality and variety of their offerings in this category. From the other side the low sales and repetition rates for the accessory and unknown categories may indicate that there is less demand or interest in these items."
   ]
  },
  {
   "cell_type": "code",
   "execution_count": 478,
   "id": "7d17c1a9",
   "metadata": {},
   "outputs": [
    {
     "ename": "TypeError",
     "evalue": "can only insert Interval objects and NA into an IntervalArray",
     "output_type": "error",
     "traceback": [
      "\u001b[1;31m---------------------------------------------------------------------------\u001b[0m",
      "\u001b[1;31mTypeError\u001b[0m                                 Traceback (most recent call last)",
      "Input \u001b[1;32mIn [478]\u001b[0m, in \u001b[0;36m<cell line: 2>\u001b[1;34m()\u001b[0m\n\u001b[0;32m      1\u001b[0m \u001b[38;5;66;03m# Save cleaned data locally\u001b[39;00m\n\u001b[1;32m----> 2\u001b[0m \u001b[43mpet_supplies_clean\u001b[49m\u001b[38;5;241;43m.\u001b[39;49m\u001b[43mto_csv\u001b[49m\u001b[43m(\u001b[49m\u001b[38;5;124;43m'\u001b[39;49m\u001b[38;5;124;43m./pet_supplies_clean.csv\u001b[39;49m\u001b[38;5;124;43m'\u001b[39;49m\u001b[43m)\u001b[49m\n",
      "File \u001b[1;32mD:\\anaconda\\lib\\site-packages\\pandas\\core\\generic.py:3551\u001b[0m, in \u001b[0;36mNDFrame.to_csv\u001b[1;34m(self, path_or_buf, sep, na_rep, float_format, columns, header, index, index_label, mode, encoding, compression, quoting, quotechar, line_terminator, chunksize, date_format, doublequote, escapechar, decimal, errors, storage_options)\u001b[0m\n\u001b[0;32m   3540\u001b[0m df \u001b[38;5;241m=\u001b[39m \u001b[38;5;28mself\u001b[39m \u001b[38;5;28;01mif\u001b[39;00m \u001b[38;5;28misinstance\u001b[39m(\u001b[38;5;28mself\u001b[39m, ABCDataFrame) \u001b[38;5;28;01melse\u001b[39;00m \u001b[38;5;28mself\u001b[39m\u001b[38;5;241m.\u001b[39mto_frame()\n\u001b[0;32m   3542\u001b[0m formatter \u001b[38;5;241m=\u001b[39m DataFrameFormatter(\n\u001b[0;32m   3543\u001b[0m     frame\u001b[38;5;241m=\u001b[39mdf,\n\u001b[0;32m   3544\u001b[0m     header\u001b[38;5;241m=\u001b[39mheader,\n\u001b[1;32m   (...)\u001b[0m\n\u001b[0;32m   3548\u001b[0m     decimal\u001b[38;5;241m=\u001b[39mdecimal,\n\u001b[0;32m   3549\u001b[0m )\n\u001b[1;32m-> 3551\u001b[0m \u001b[38;5;28;01mreturn\u001b[39;00m \u001b[43mDataFrameRenderer\u001b[49m\u001b[43m(\u001b[49m\u001b[43mformatter\u001b[49m\u001b[43m)\u001b[49m\u001b[38;5;241;43m.\u001b[39;49m\u001b[43mto_csv\u001b[49m\u001b[43m(\u001b[49m\n\u001b[0;32m   3552\u001b[0m \u001b[43m    \u001b[49m\u001b[43mpath_or_buf\u001b[49m\u001b[43m,\u001b[49m\n\u001b[0;32m   3553\u001b[0m \u001b[43m    \u001b[49m\u001b[43mline_terminator\u001b[49m\u001b[38;5;241;43m=\u001b[39;49m\u001b[43mline_terminator\u001b[49m\u001b[43m,\u001b[49m\n\u001b[0;32m   3554\u001b[0m \u001b[43m    \u001b[49m\u001b[43msep\u001b[49m\u001b[38;5;241;43m=\u001b[39;49m\u001b[43msep\u001b[49m\u001b[43m,\u001b[49m\n\u001b[0;32m   3555\u001b[0m \u001b[43m    \u001b[49m\u001b[43mencoding\u001b[49m\u001b[38;5;241;43m=\u001b[39;49m\u001b[43mencoding\u001b[49m\u001b[43m,\u001b[49m\n\u001b[0;32m   3556\u001b[0m \u001b[43m    \u001b[49m\u001b[43merrors\u001b[49m\u001b[38;5;241;43m=\u001b[39;49m\u001b[43merrors\u001b[49m\u001b[43m,\u001b[49m\n\u001b[0;32m   3557\u001b[0m \u001b[43m    \u001b[49m\u001b[43mcompression\u001b[49m\u001b[38;5;241;43m=\u001b[39;49m\u001b[43mcompression\u001b[49m\u001b[43m,\u001b[49m\n\u001b[0;32m   3558\u001b[0m \u001b[43m    \u001b[49m\u001b[43mquoting\u001b[49m\u001b[38;5;241;43m=\u001b[39;49m\u001b[43mquoting\u001b[49m\u001b[43m,\u001b[49m\n\u001b[0;32m   3559\u001b[0m \u001b[43m    \u001b[49m\u001b[43mcolumns\u001b[49m\u001b[38;5;241;43m=\u001b[39;49m\u001b[43mcolumns\u001b[49m\u001b[43m,\u001b[49m\n\u001b[0;32m   3560\u001b[0m \u001b[43m    \u001b[49m\u001b[43mindex_label\u001b[49m\u001b[38;5;241;43m=\u001b[39;49m\u001b[43mindex_label\u001b[49m\u001b[43m,\u001b[49m\n\u001b[0;32m   3561\u001b[0m \u001b[43m    \u001b[49m\u001b[43mmode\u001b[49m\u001b[38;5;241;43m=\u001b[39;49m\u001b[43mmode\u001b[49m\u001b[43m,\u001b[49m\n\u001b[0;32m   3562\u001b[0m \u001b[43m    \u001b[49m\u001b[43mchunksize\u001b[49m\u001b[38;5;241;43m=\u001b[39;49m\u001b[43mchunksize\u001b[49m\u001b[43m,\u001b[49m\n\u001b[0;32m   3563\u001b[0m \u001b[43m    \u001b[49m\u001b[43mquotechar\u001b[49m\u001b[38;5;241;43m=\u001b[39;49m\u001b[43mquotechar\u001b[49m\u001b[43m,\u001b[49m\n\u001b[0;32m   3564\u001b[0m \u001b[43m    \u001b[49m\u001b[43mdate_format\u001b[49m\u001b[38;5;241;43m=\u001b[39;49m\u001b[43mdate_format\u001b[49m\u001b[43m,\u001b[49m\n\u001b[0;32m   3565\u001b[0m \u001b[43m    \u001b[49m\u001b[43mdoublequote\u001b[49m\u001b[38;5;241;43m=\u001b[39;49m\u001b[43mdoublequote\u001b[49m\u001b[43m,\u001b[49m\n\u001b[0;32m   3566\u001b[0m \u001b[43m    \u001b[49m\u001b[43mescapechar\u001b[49m\u001b[38;5;241;43m=\u001b[39;49m\u001b[43mescapechar\u001b[49m\u001b[43m,\u001b[49m\n\u001b[0;32m   3567\u001b[0m \u001b[43m    \u001b[49m\u001b[43mstorage_options\u001b[49m\u001b[38;5;241;43m=\u001b[39;49m\u001b[43mstorage_options\u001b[49m\u001b[43m,\u001b[49m\n\u001b[0;32m   3568\u001b[0m \u001b[43m\u001b[49m\u001b[43m)\u001b[49m\n",
      "File \u001b[1;32mD:\\anaconda\\lib\\site-packages\\pandas\\io\\formats\\format.py:1180\u001b[0m, in \u001b[0;36mDataFrameRenderer.to_csv\u001b[1;34m(self, path_or_buf, encoding, sep, columns, index_label, mode, compression, quoting, quotechar, line_terminator, chunksize, date_format, doublequote, escapechar, errors, storage_options)\u001b[0m\n\u001b[0;32m   1159\u001b[0m     created_buffer \u001b[38;5;241m=\u001b[39m \u001b[38;5;28;01mFalse\u001b[39;00m\n\u001b[0;32m   1161\u001b[0m csv_formatter \u001b[38;5;241m=\u001b[39m CSVFormatter(\n\u001b[0;32m   1162\u001b[0m     path_or_buf\u001b[38;5;241m=\u001b[39mpath_or_buf,\n\u001b[0;32m   1163\u001b[0m     line_terminator\u001b[38;5;241m=\u001b[39mline_terminator,\n\u001b[1;32m   (...)\u001b[0m\n\u001b[0;32m   1178\u001b[0m     formatter\u001b[38;5;241m=\u001b[39m\u001b[38;5;28mself\u001b[39m\u001b[38;5;241m.\u001b[39mfmt,\n\u001b[0;32m   1179\u001b[0m )\n\u001b[1;32m-> 1180\u001b[0m \u001b[43mcsv_formatter\u001b[49m\u001b[38;5;241;43m.\u001b[39;49m\u001b[43msave\u001b[49m\u001b[43m(\u001b[49m\u001b[43m)\u001b[49m\n\u001b[0;32m   1182\u001b[0m \u001b[38;5;28;01mif\u001b[39;00m created_buffer:\n\u001b[0;32m   1183\u001b[0m     \u001b[38;5;28;01massert\u001b[39;00m \u001b[38;5;28misinstance\u001b[39m(path_or_buf, StringIO)\n",
      "File \u001b[1;32mD:\\anaconda\\lib\\site-packages\\pandas\\io\\formats\\csvs.py:261\u001b[0m, in \u001b[0;36mCSVFormatter.save\u001b[1;34m(self)\u001b[0m\n\u001b[0;32m    241\u001b[0m \u001b[38;5;28;01mwith\u001b[39;00m get_handle(\n\u001b[0;32m    242\u001b[0m     \u001b[38;5;28mself\u001b[39m\u001b[38;5;241m.\u001b[39mfilepath_or_buffer,\n\u001b[0;32m    243\u001b[0m     \u001b[38;5;28mself\u001b[39m\u001b[38;5;241m.\u001b[39mmode,\n\u001b[1;32m   (...)\u001b[0m\n\u001b[0;32m    249\u001b[0m \n\u001b[0;32m    250\u001b[0m     \u001b[38;5;66;03m# Note: self.encoding is irrelevant here\u001b[39;00m\n\u001b[0;32m    251\u001b[0m     \u001b[38;5;28mself\u001b[39m\u001b[38;5;241m.\u001b[39mwriter \u001b[38;5;241m=\u001b[39m csvlib\u001b[38;5;241m.\u001b[39mwriter(\n\u001b[0;32m    252\u001b[0m         handles\u001b[38;5;241m.\u001b[39mhandle,\n\u001b[0;32m    253\u001b[0m         lineterminator\u001b[38;5;241m=\u001b[39m\u001b[38;5;28mself\u001b[39m\u001b[38;5;241m.\u001b[39mline_terminator,\n\u001b[1;32m   (...)\u001b[0m\n\u001b[0;32m    258\u001b[0m         quotechar\u001b[38;5;241m=\u001b[39m\u001b[38;5;28mself\u001b[39m\u001b[38;5;241m.\u001b[39mquotechar,\n\u001b[0;32m    259\u001b[0m     )\n\u001b[1;32m--> 261\u001b[0m     \u001b[38;5;28;43mself\u001b[39;49m\u001b[38;5;241;43m.\u001b[39;49m\u001b[43m_save\u001b[49m\u001b[43m(\u001b[49m\u001b[43m)\u001b[49m\n",
      "File \u001b[1;32mD:\\anaconda\\lib\\site-packages\\pandas\\io\\formats\\csvs.py:266\u001b[0m, in \u001b[0;36mCSVFormatter._save\u001b[1;34m(self)\u001b[0m\n\u001b[0;32m    264\u001b[0m \u001b[38;5;28;01mif\u001b[39;00m \u001b[38;5;28mself\u001b[39m\u001b[38;5;241m.\u001b[39m_need_to_save_header:\n\u001b[0;32m    265\u001b[0m     \u001b[38;5;28mself\u001b[39m\u001b[38;5;241m.\u001b[39m_save_header()\n\u001b[1;32m--> 266\u001b[0m \u001b[38;5;28;43mself\u001b[39;49m\u001b[38;5;241;43m.\u001b[39;49m\u001b[43m_save_body\u001b[49m\u001b[43m(\u001b[49m\u001b[43m)\u001b[49m\n",
      "File \u001b[1;32mD:\\anaconda\\lib\\site-packages\\pandas\\io\\formats\\csvs.py:304\u001b[0m, in \u001b[0;36mCSVFormatter._save_body\u001b[1;34m(self)\u001b[0m\n\u001b[0;32m    302\u001b[0m \u001b[38;5;28;01mif\u001b[39;00m start_i \u001b[38;5;241m>\u001b[39m\u001b[38;5;241m=\u001b[39m end_i:\n\u001b[0;32m    303\u001b[0m     \u001b[38;5;28;01mbreak\u001b[39;00m\n\u001b[1;32m--> 304\u001b[0m \u001b[38;5;28;43mself\u001b[39;49m\u001b[38;5;241;43m.\u001b[39;49m\u001b[43m_save_chunk\u001b[49m\u001b[43m(\u001b[49m\u001b[43mstart_i\u001b[49m\u001b[43m,\u001b[49m\u001b[43m \u001b[49m\u001b[43mend_i\u001b[49m\u001b[43m)\u001b[49m\n",
      "File \u001b[1;32mD:\\anaconda\\lib\\site-packages\\pandas\\io\\formats\\csvs.py:311\u001b[0m, in \u001b[0;36mCSVFormatter._save_chunk\u001b[1;34m(self, start_i, end_i)\u001b[0m\n\u001b[0;32m    308\u001b[0m slicer \u001b[38;5;241m=\u001b[39m \u001b[38;5;28mslice\u001b[39m(start_i, end_i)\n\u001b[0;32m    309\u001b[0m df \u001b[38;5;241m=\u001b[39m \u001b[38;5;28mself\u001b[39m\u001b[38;5;241m.\u001b[39mobj\u001b[38;5;241m.\u001b[39miloc[slicer]\n\u001b[1;32m--> 311\u001b[0m res \u001b[38;5;241m=\u001b[39m df\u001b[38;5;241m.\u001b[39m_mgr\u001b[38;5;241m.\u001b[39mto_native_types(\u001b[38;5;241m*\u001b[39m\u001b[38;5;241m*\u001b[39m\u001b[38;5;28mself\u001b[39m\u001b[38;5;241m.\u001b[39m_number_format)\n\u001b[0;32m    312\u001b[0m data \u001b[38;5;241m=\u001b[39m [res\u001b[38;5;241m.\u001b[39miget_values(i) \u001b[38;5;28;01mfor\u001b[39;00m i \u001b[38;5;129;01min\u001b[39;00m \u001b[38;5;28mrange\u001b[39m(\u001b[38;5;28mlen\u001b[39m(res\u001b[38;5;241m.\u001b[39mitems))]\n\u001b[0;32m    314\u001b[0m ix \u001b[38;5;241m=\u001b[39m \u001b[38;5;28mself\u001b[39m\u001b[38;5;241m.\u001b[39mdata_index[slicer]\u001b[38;5;241m.\u001b[39m_format_native_types(\u001b[38;5;241m*\u001b[39m\u001b[38;5;241m*\u001b[39m\u001b[38;5;28mself\u001b[39m\u001b[38;5;241m.\u001b[39m_number_format)\n",
      "File \u001b[1;32mD:\\anaconda\\lib\\site-packages\\pandas\\core\\internals\\managers.py:473\u001b[0m, in \u001b[0;36mBaseBlockManager.to_native_types\u001b[1;34m(self, **kwargs)\u001b[0m\n\u001b[0;32m    468\u001b[0m \u001b[38;5;28;01mdef\u001b[39;00m \u001b[38;5;21mto_native_types\u001b[39m(\u001b[38;5;28mself\u001b[39m: T, \u001b[38;5;241m*\u001b[39m\u001b[38;5;241m*\u001b[39mkwargs) \u001b[38;5;241m-\u001b[39m\u001b[38;5;241m>\u001b[39m T:\n\u001b[0;32m    469\u001b[0m     \u001b[38;5;124;03m\"\"\"\u001b[39;00m\n\u001b[0;32m    470\u001b[0m \u001b[38;5;124;03m    Convert values to native types (strings / python objects) that are used\u001b[39;00m\n\u001b[0;32m    471\u001b[0m \u001b[38;5;124;03m    in formatting (repr / csv).\u001b[39;00m\n\u001b[0;32m    472\u001b[0m \u001b[38;5;124;03m    \"\"\"\u001b[39;00m\n\u001b[1;32m--> 473\u001b[0m     \u001b[38;5;28;01mreturn\u001b[39;00m \u001b[38;5;28mself\u001b[39m\u001b[38;5;241m.\u001b[39mapply(\u001b[38;5;124m\"\u001b[39m\u001b[38;5;124mto_native_types\u001b[39m\u001b[38;5;124m\"\u001b[39m, \u001b[38;5;241m*\u001b[39m\u001b[38;5;241m*\u001b[39mkwargs)\n",
      "File \u001b[1;32mD:\\anaconda\\lib\\site-packages\\pandas\\core\\internals\\managers.py:304\u001b[0m, in \u001b[0;36mBaseBlockManager.apply\u001b[1;34m(self, f, align_keys, ignore_failures, **kwargs)\u001b[0m\n\u001b[0;32m    302\u001b[0m         applied \u001b[38;5;241m=\u001b[39m b\u001b[38;5;241m.\u001b[39mapply(f, \u001b[38;5;241m*\u001b[39m\u001b[38;5;241m*\u001b[39mkwargs)\n\u001b[0;32m    303\u001b[0m     \u001b[38;5;28;01melse\u001b[39;00m:\n\u001b[1;32m--> 304\u001b[0m         applied \u001b[38;5;241m=\u001b[39m \u001b[38;5;28mgetattr\u001b[39m(b, f)(\u001b[38;5;241m*\u001b[39m\u001b[38;5;241m*\u001b[39mkwargs)\n\u001b[0;32m    305\u001b[0m \u001b[38;5;28;01mexcept\u001b[39;00m (\u001b[38;5;167;01mTypeError\u001b[39;00m, \u001b[38;5;167;01mNotImplementedError\u001b[39;00m):\n\u001b[0;32m    306\u001b[0m     \u001b[38;5;28;01mif\u001b[39;00m \u001b[38;5;129;01mnot\u001b[39;00m ignore_failures:\n",
      "File \u001b[1;32mD:\\anaconda\\lib\\site-packages\\pandas\\core\\internals\\blocks.py:634\u001b[0m, in \u001b[0;36mBlock.to_native_types\u001b[1;34m(self, na_rep, quoting, **kwargs)\u001b[0m\n\u001b[0;32m    631\u001b[0m \u001b[38;5;129m@final\u001b[39m\n\u001b[0;32m    632\u001b[0m \u001b[38;5;28;01mdef\u001b[39;00m \u001b[38;5;21mto_native_types\u001b[39m(\u001b[38;5;28mself\u001b[39m, na_rep\u001b[38;5;241m=\u001b[39m\u001b[38;5;124m\"\u001b[39m\u001b[38;5;124mnan\u001b[39m\u001b[38;5;124m\"\u001b[39m, quoting\u001b[38;5;241m=\u001b[39m\u001b[38;5;28;01mNone\u001b[39;00m, \u001b[38;5;241m*\u001b[39m\u001b[38;5;241m*\u001b[39mkwargs):\n\u001b[0;32m    633\u001b[0m     \u001b[38;5;124;03m\"\"\"convert to our native types format\"\"\"\u001b[39;00m\n\u001b[1;32m--> 634\u001b[0m     result \u001b[38;5;241m=\u001b[39m to_native_types(\u001b[38;5;28mself\u001b[39m\u001b[38;5;241m.\u001b[39mvalues, na_rep\u001b[38;5;241m=\u001b[39mna_rep, quoting\u001b[38;5;241m=\u001b[39mquoting, \u001b[38;5;241m*\u001b[39m\u001b[38;5;241m*\u001b[39mkwargs)\n\u001b[0;32m    635\u001b[0m     \u001b[38;5;28;01mreturn\u001b[39;00m \u001b[38;5;28mself\u001b[39m\u001b[38;5;241m.\u001b[39mmake_block(result)\n",
      "File \u001b[1;32mD:\\anaconda\\lib\\site-packages\\pandas\\core\\internals\\blocks.py:2163\u001b[0m, in \u001b[0;36mto_native_types\u001b[1;34m(values, na_rep, quoting, float_format, decimal, **kwargs)\u001b[0m\n\u001b[0;32m   2160\u001b[0m \u001b[38;5;124;03m\"\"\"convert to our native types format\"\"\"\u001b[39;00m\n\u001b[0;32m   2161\u001b[0m \u001b[38;5;28;01mif\u001b[39;00m \u001b[38;5;28misinstance\u001b[39m(values, Categorical):\n\u001b[0;32m   2162\u001b[0m     \u001b[38;5;66;03m# GH#40754 Convert categorical datetimes to datetime array\u001b[39;00m\n\u001b[1;32m-> 2163\u001b[0m     values \u001b[38;5;241m=\u001b[39m \u001b[43mtake_nd\u001b[49m\u001b[43m(\u001b[49m\n\u001b[0;32m   2164\u001b[0m \u001b[43m        \u001b[49m\u001b[43mvalues\u001b[49m\u001b[38;5;241;43m.\u001b[39;49m\u001b[43mcategories\u001b[49m\u001b[38;5;241;43m.\u001b[39;49m\u001b[43m_values\u001b[49m\u001b[43m,\u001b[49m\n\u001b[0;32m   2165\u001b[0m \u001b[43m        \u001b[49m\u001b[43mensure_platform_int\u001b[49m\u001b[43m(\u001b[49m\u001b[43mvalues\u001b[49m\u001b[38;5;241;43m.\u001b[39;49m\u001b[43m_codes\u001b[49m\u001b[43m)\u001b[49m\u001b[43m,\u001b[49m\n\u001b[0;32m   2166\u001b[0m \u001b[43m        \u001b[49m\u001b[43mfill_value\u001b[49m\u001b[38;5;241;43m=\u001b[39;49m\u001b[43mna_rep\u001b[49m\u001b[43m,\u001b[49m\n\u001b[0;32m   2167\u001b[0m \u001b[43m    \u001b[49m\u001b[43m)\u001b[49m\n\u001b[0;32m   2169\u001b[0m values \u001b[38;5;241m=\u001b[39m ensure_wrapped_if_datetimelike(values)\n\u001b[0;32m   2171\u001b[0m \u001b[38;5;28;01mif\u001b[39;00m \u001b[38;5;28misinstance\u001b[39m(values, (DatetimeArray, TimedeltaArray)):\n",
      "File \u001b[1;32mD:\\anaconda\\lib\\site-packages\\pandas\\core\\array_algos\\take.py:114\u001b[0m, in \u001b[0;36mtake_nd\u001b[1;34m(arr, indexer, axis, fill_value, allow_fill)\u001b[0m\n\u001b[0;32m    109\u001b[0m         arr \u001b[38;5;241m=\u001b[39m cast(\u001b[38;5;124m\"\u001b[39m\u001b[38;5;124mNDArrayBackedExtensionArray\u001b[39m\u001b[38;5;124m\"\u001b[39m, arr)\n\u001b[0;32m    110\u001b[0m         \u001b[38;5;28;01mreturn\u001b[39;00m arr\u001b[38;5;241m.\u001b[39mtake(\n\u001b[0;32m    111\u001b[0m             indexer, fill_value\u001b[38;5;241m=\u001b[39mfill_value, allow_fill\u001b[38;5;241m=\u001b[39mallow_fill, axis\u001b[38;5;241m=\u001b[39maxis\n\u001b[0;32m    112\u001b[0m         )\n\u001b[1;32m--> 114\u001b[0m     \u001b[38;5;28;01mreturn\u001b[39;00m \u001b[43marr\u001b[49m\u001b[38;5;241;43m.\u001b[39;49m\u001b[43mtake\u001b[49m\u001b[43m(\u001b[49m\u001b[43mindexer\u001b[49m\u001b[43m,\u001b[49m\u001b[43m \u001b[49m\u001b[43mfill_value\u001b[49m\u001b[38;5;241;43m=\u001b[39;49m\u001b[43mfill_value\u001b[49m\u001b[43m,\u001b[49m\u001b[43m \u001b[49m\u001b[43mallow_fill\u001b[49m\u001b[38;5;241;43m=\u001b[39;49m\u001b[43mallow_fill\u001b[49m\u001b[43m)\u001b[49m\n\u001b[0;32m    116\u001b[0m arr \u001b[38;5;241m=\u001b[39m np\u001b[38;5;241m.\u001b[39masarray(arr)\n\u001b[0;32m    117\u001b[0m \u001b[38;5;28;01mreturn\u001b[39;00m _take_nd_ndarray(arr, indexer, axis, fill_value, allow_fill)\n",
      "File \u001b[1;32mD:\\anaconda\\lib\\site-packages\\pandas\\core\\arrays\\interval.py:1060\u001b[0m, in \u001b[0;36mIntervalArray.take\u001b[1;34m(self, indices, allow_fill, fill_value, axis, **kwargs)\u001b[0m\n\u001b[0;32m   1058\u001b[0m fill_left \u001b[38;5;241m=\u001b[39m fill_right \u001b[38;5;241m=\u001b[39m fill_value\n\u001b[0;32m   1059\u001b[0m \u001b[38;5;28;01mif\u001b[39;00m allow_fill:\n\u001b[1;32m-> 1060\u001b[0m     fill_left, fill_right \u001b[38;5;241m=\u001b[39m \u001b[38;5;28;43mself\u001b[39;49m\u001b[38;5;241;43m.\u001b[39;49m\u001b[43m_validate_scalar\u001b[49m\u001b[43m(\u001b[49m\u001b[43mfill_value\u001b[49m\u001b[43m)\u001b[49m\n\u001b[0;32m   1062\u001b[0m left_take \u001b[38;5;241m=\u001b[39m take(\n\u001b[0;32m   1063\u001b[0m     \u001b[38;5;28mself\u001b[39m\u001b[38;5;241m.\u001b[39m_left, indices, allow_fill\u001b[38;5;241m=\u001b[39mallow_fill, fill_value\u001b[38;5;241m=\u001b[39mfill_left\n\u001b[0;32m   1064\u001b[0m )\n\u001b[0;32m   1065\u001b[0m right_take \u001b[38;5;241m=\u001b[39m take(\n\u001b[0;32m   1066\u001b[0m     \u001b[38;5;28mself\u001b[39m\u001b[38;5;241m.\u001b[39m_right, indices, allow_fill\u001b[38;5;241m=\u001b[39mallow_fill, fill_value\u001b[38;5;241m=\u001b[39mfill_right\n\u001b[0;32m   1067\u001b[0m )\n",
      "File \u001b[1;32mD:\\anaconda\\lib\\site-packages\\pandas\\core\\arrays\\interval.py:1102\u001b[0m, in \u001b[0;36mIntervalArray._validate_scalar\u001b[1;34m(self, value)\u001b[0m\n\u001b[0;32m   1100\u001b[0m     left \u001b[38;5;241m=\u001b[39m right \u001b[38;5;241m=\u001b[39m value\n\u001b[0;32m   1101\u001b[0m \u001b[38;5;28;01melse\u001b[39;00m:\n\u001b[1;32m-> 1102\u001b[0m     \u001b[38;5;28;01mraise\u001b[39;00m \u001b[38;5;167;01mTypeError\u001b[39;00m(\n\u001b[0;32m   1103\u001b[0m         \u001b[38;5;124m\"\u001b[39m\u001b[38;5;124mcan only insert Interval objects and NA into an IntervalArray\u001b[39m\u001b[38;5;124m\"\u001b[39m\n\u001b[0;32m   1104\u001b[0m     )\n\u001b[0;32m   1105\u001b[0m \u001b[38;5;28;01mreturn\u001b[39;00m left, right\n",
      "\u001b[1;31mTypeError\u001b[0m: can only insert Interval objects and NA into an IntervalArray"
     ]
    }
   ],
   "source": [
    "# Save cleaned data locally\n",
    "pet_supplies_clean.to_csv('./pet_supplies_clean.csv')"
   ]
  },
  {
   "cell_type": "code",
   "execution_count": null,
   "id": "cebb501d",
   "metadata": {},
   "outputs": [],
   "source": []
  }
 ],
 "metadata": {
  "kernelspec": {
   "display_name": "Python 3 (ipykernel)",
   "language": "python",
   "name": "python3"
  },
  "language_info": {
   "codemirror_mode": {
    "name": "ipython",
    "version": 3
   },
   "file_extension": ".py",
   "mimetype": "text/x-python",
   "name": "python",
   "nbconvert_exporter": "python",
   "pygments_lexer": "ipython3",
   "version": "3.9.12"
  }
 },
 "nbformat": 4,
 "nbformat_minor": 5
}
